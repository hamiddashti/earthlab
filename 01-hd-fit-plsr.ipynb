{
 "cells": [
  {
   "cell_type": "code",
   "execution_count": null,
   "source": [
    "import fit_ml\n",
    "import pandas as pd\n",
    "import numpy as np \n",
    "import rioxarray as rxr\n",
    "import matplotlib.pylab as plt "
   ],
   "outputs": [],
   "metadata": {}
  },
  {
   "cell_type": "code",
   "execution_count": null,
   "source": [
    "data = pd.read_csv(\"./data/raw/Data.csv\")\n",
    "print(data)\n",
    "\n",
    "url_tif = \"https://drive.google.com/uc?id=1UOEeyzHW-h0el2Qzk1o7BiSsqT8f8ax2\"\n",
    "url_tfw = \"https://drive.google.com/uc?id=1I3Ns7sQ4ETFVsYD6sEQXzR65xHtyFIfD\"\n",
    "gdown_file(url_tif, \"./data/raw/hyper_image.tif\")\n",
    "gdown_file(url_tfw, \"./data/raw/hyper_image.tfw\")\n",
    "\n"
   ],
   "outputs": [],
   "metadata": {}
  },
  {
   "cell_type": "code",
   "execution_count": null,
   "source": [
    "# -------- Data cleaning -----------------\n",
    "# Remove samples with no N measurments\n",
    "data = data[~np.isnan(data[\"nitrogen\"])]\n",
    "# Select bands that there is no nan in spectral measurments\n",
    "y = data[\"nitrogen\"].values\n",
    "spec = data.iloc[:, 1:]\n",
    "spec = spec[spec > 0]\n",
    "not_nan = np.where(~np.any(np.isnan(spec), axis=0))[0]\n",
    "spec = spec.iloc[:, not_nan]\n"
   ],
   "outputs": [],
   "metadata": {}
  },
  {
   "cell_type": "code",
   "execution_count": null,
   "source": [
    "# Remove the water absorption bands\n",
    "wl = np.array(spec.columns.values)\n",
    "f = np.vectorize(float)\n",
    "wl = f(wl)\n",
    "water_abs1 = np.where((wl >= 1300) & (wl <= 1450))\n",
    "water_abs2 = np.where((wl >= 1750) & (wl <= 2000))\n",
    "bad_bands = np.concatenate((water_abs1, water_abs2), axis=1)[0]\n",
    "wl = np.delete(wl, bad_bands, 0)\n",
    "X = np.delete(spec.values, bad_bands, 1)"
   ],
   "outputs": [],
   "metadata": {}
  },
  {
   "cell_type": "code",
   "execution_count": null,
   "source": [
    "\n",
    "pls_opt, I, y_c, y_cv, score_c, score_cv, mse_c, mse_cv = fit_ml.plsr(X, y, 15)\n",
    "print(pls_opt)\n"
   ],
   "outputs": [],
   "metadata": {}
  },
  {
   "cell_type": "code",
   "execution_count": null,
   "source": [
    "img = rxr.open_rasterio(\"./data/raw/hyper_image.tif\")\n",
    "# img = rxr.open_rasterio(in_dir + \"hyper_flightline.tif\")\n",
    "img[\"band\"] = img[\"band\"] - 1\n",
    "img = img.isel(band=not_nan)\n",
    "img = img.drop(bad_bands, dim=\"band\")\n",
    "img = img.isel(band=np.squeeze(I))\n",
    "# img = img.chunk(chunks={'x': 100, 'y': 200})\n",
    "print(img)"
   ],
   "outputs": [],
   "metadata": {}
  },
  {
   "cell_type": "code",
   "execution_count": null,
   "source": [
    "nitrogen_map = fit_ml.predict(img, pls_opt, \"band\")"
   ],
   "outputs": [],
   "metadata": {}
  },
  {
   "cell_type": "code",
   "execution_count": null,
   "source": [
    "plt.close()\n",
    "fig, ax = plt.subplots(figsize=(8, 9))\n",
    "ax.plot(wl, X.T, color=\"gray\")\n",
    "[\n",
    "    plt.axvline(x=wl[i], color='r', alpha=0.3, label='axvline - full height')\n",
    "    for i in I\n",
    "]\n",
    "plt.savefig(\"./reports/figures/selected_bands.png\")"
   ],
   "outputs": [],
   "metadata": {}
  },
  {
   "cell_type": "code",
   "execution_count": null,
   "source": [
    "plt.close()\n",
    "nitrogen_map.plot.imshow()\n",
    "plt.savefig(\"./reports/figures/nitrogen_map.png\")"
   ],
   "outputs": [],
   "metadata": {}
  },
  {
   "cell_type": "code",
   "execution_count": null,
   "source": [],
   "outputs": [],
   "metadata": {}
  }
 ],
 "metadata": {
  "orig_nbformat": 4,
  "language_info": {
   "name": "python",
   "version": "3.8.12",
   "mimetype": "text/x-python",
   "codemirror_mode": {
    "name": "ipython",
    "version": 3
   },
   "pygments_lexer": "ipython3",
   "nbconvert_exporter": "python",
   "file_extension": ".py"
  },
  "kernelspec": {
   "name": "python3",
   "display_name": "Python 3.8.12 64-bit ('earthlab': conda)"
  },
  "interpreter": {
   "hash": "a5b38de50964258a6812b52d782605bc383a41294f26704c6f6c15edb4ad77fd"
  }
 },
 "nbformat": 4,
 "nbformat_minor": 2
}