{
 "cells": [
  {
   "cell_type": "code",
   "execution_count": null,
   "source": [
    "import os, sys\n",
    "sys.path.insert(0, os.path.abspath(\"..\"))\n",
    "import numpy as np\n",
    "import matplotlib.pylab as plt\n",
    "import xarray as xr\n",
    "import rioxarray as rxr\n",
    "import pandas as pd\n",
    "from src.models.earhlab_lib import hyper_plsr\n",
    "from src.features import build_features"
   ],
   "outputs": [],
   "metadata": {}
  },
  {
   "cell_type": "code",
   "execution_count": null,
   "source": [
    "# Download the data from google drive\n",
    "from src.data.make_dataset import gdown_file\n",
    "url_tif = \"https://drive.google.com/uc?id=1UOEeyzHW-h0el2Qzk1o7BiSsqT8f8ax2\"\n",
    "url_tfw = \"https://drive.google.com/uc?id=1I3Ns7sQ4ETFVsYD6sEQXzR65xHtyFIfD\"\n",
    "gdown_file(url_tif,\"../data/raw/hyper_image.tif\")\n",
    "gdown_file(url_tfw, \"../data/raw/hyper_image.tfw\")"
   ],
   "outputs": [],
   "metadata": {}
  },
  {
   "cell_type": "code",
   "execution_count": null,
   "source": [
    "\n",
    "# Read the csv (training) data and the hyperspectral image\n",
    "csv_data = pd.read_csv(\"../data/raw/Data.csv\")\n",
    "hyper_img = rxr.open_rasterio(\"../data/raw/hyper_image.tif\")\n",
    "# Make the band number to start with 0 to make it coonsistent with python indexing\n",
    "hyper_img[\"band\"] = hyper_img[\"band\"] - 1"
   ],
   "outputs": [],
   "metadata": {}
  },
  {
   "cell_type": "code",
   "execution_count": null,
   "source": [
    "# Raw data exploration\n",
    "print((f\"\\nNumber of observations before cleaning: {csv_data.shape[0]-1}\\n\"\n",
    "f\"Number of spectral bands (features): {csv_data.shape[1]-1}\\n\"))\n",
    "print(csv_data)\n",
    "print(hyper_img)"
   ],
   "outputs": [],
   "metadata": {}
  },
  {
   "cell_type": "code",
   "execution_count": null,
   "source": [
    "# plot the false color composite of the image: \n",
    "\n",
    "plt.close()\n",
    "fig, ax = plt.subplots(figsize=(10, 8), facecolor='w', edgecolor='k')\n",
    "hyper_img.isel(band=[104,62,42]).plot.imshow(ax=ax)\n",
    "ax.set_title(\"Shrublands of western US\")\n",
    "ax.set_xlabel(\"Longitude\")\n",
    "ax.set_ylabel(\"Latitude\")\n",
    "plt.savefig(\"../reports/figures/CIR_image.png\")\n",
    "\n"
   ],
   "outputs": [],
   "metadata": {}
  },
  {
   "cell_type": "markdown",
   "source": [
    "## Cleaning the training data:\n",
    "1. Remove observations with nan values (no nitrogen measured).\n",
    "2. Remove the columns with negative reflectance.\n",
    "3. Remove water absorption bands.    "
   ],
   "metadata": {}
  },
  {
   "cell_type": "code",
   "execution_count": null,
   "source": [
    "# X, y, non_negative_columns, water_bands, wl = hyper_plsr.clean_data(csv_data)\n",
    "\n",
    "X, y, non_negative_columns, water_bands, wl = build_features.clean_data(csv_data)"
   ],
   "outputs": [],
   "metadata": {}
  },
  {
   "cell_type": "code",
   "execution_count": null,
   "source": [
    "# plot the spectr in the training set:\n",
    "plt.close()\n",
    "fig, ax = plt.subplots(figsize=(10, 8), facecolor='w', edgecolor='k')\n",
    "plt.plot(wl,X.T,color=\"gray\")\n",
    "ax.set_title(\"Hyperspectral signature of training plots\")\n",
    "ax.set_xlabel(\"Wavelength [nm]\")\n",
    "ax.set_ylabel(\"Reflectance\")\n",
    "plt.savefig(\"../reports/figures/spectral_bands.png\")\n"
   ],
   "outputs": [],
   "metadata": {}
  },
  {
   "cell_type": "markdown",
   "source": [
    "## Train the plsr model usign two different band selections techniques\n",
    "* The first technique is called VIP\n",
    "* The second technique is just removing band with the lowest coefficients"
   ],
   "metadata": {}
  },
  {
   "cell_type": "code",
   "execution_count": null,
   "source": [
    "# Fit the vpn plsr model\n",
    "ml1 = hyper_plsr()\n",
    "ml1.plsr_vip(X, y, max_comp=15)\n",
    "\n",
    "# Fit the variable selection method (It may take a few minutes)\n",
    "ml2 = hyper_plsr()\n",
    "ml2.plsr_vs(X, y, 15)\n"
   ],
   "outputs": [],
   "metadata": {}
  },
  {
   "cell_type": "markdown",
   "source": [
    "## Lets take a look at the scores of fitted models using both approach"
   ],
   "metadata": {}
  },
  {
   "cell_type": "code",
   "execution_count": null,
   "source": [
    "print(\n",
    "    (\n",
    "        f\"VIP model calibration r2 and rmse:{np.round(ml1.scores[0],2)},\"\n",
    "        f\" {np.round(ml1.scores[2],2)}.\"\n",
    "        f\"\\nVIP model cross calibration r2 and rmse:{np.round(ml1.scores[1],2)},\"\n",
    "        f\" {np.round(ml1.scores[3],2)}.\\n\"\n",
    "        f\"VS model calibration r2 and rmse:{np.round(ml2.scores[0],2)},\"\n",
    "        f\" {np.round(ml2.scores[2],2)}.\"\n",
    "        f\"\\nVS model cross calibration r2 and rmse:{np.round(ml2.scores[1],2)},\"\n",
    "        f\" {np.round(ml2.scores[3],2)}.\\n\"\n",
    "    )\n",
    ")"
   ],
   "outputs": [],
   "metadata": {}
  },
  {
   "cell_type": "code",
   "execution_count": null,
   "source": [
    "\n",
    "# Ploting the selected bands\n",
    "plt.close()\n",
    "fig, ax = plt.subplots(figsize=(8, 9))\n",
    "ax.plot(wl, X.T, color=\"gray\")\n",
    "selected_wl_vip = wl[ml1.selected_index]\n",
    "\n",
    "[\n",
    "    plt.axvline(\n",
    "        x=selected_wl_vip[i], color=\"red\", alpha=0.3, label=\"VIP selected bands\"\n",
    "    )\n",
    "    for i in range(len(selected_wl_vip))\n",
    "]\n",
    "\n",
    "selected_wl_vs = wl[ml2.sorted_ind[ml2.wav :]]\n",
    "[\n",
    "    plt.axvline(\n",
    "        x=selected_wl_vs[i], color=\"green\", alpha=0.3, label=\"VS selected bands\"\n",
    "    )\n",
    "    for i in range(len(selected_wl_vs))\n",
    "]\n",
    "handles, labels = plt.gca().get_legend_handles_labels()\n",
    "temp = {k: v for k, v in zip(labels, handles)}\n",
    "plt.legend(temp.values(), temp.keys(), loc=\"best\")\n",
    "plt.tight_layout()\n",
    "plt.savefig(\"../reports/figures/selected_bands.png\")"
   ],
   "outputs": [],
   "metadata": {}
  },
  {
   "cell_type": "markdown",
   "source": [
    "As you can see compare to VIP band selection, the simple variable selection (VS model) led to better calibratio and validation results. "
   ],
   "metadata": {}
  },
  {
   "cell_type": "code",
   "execution_count": null,
   "source": [
    "# Apply VS model to the image \n",
    "\n",
    "hyper_img = hyper_img.isel(band=non_negative_columns)\n",
    "hyper_img = hyper_img.drop(water_bands, dim=\"band\")\n",
    "img_sorted = hyper_img[ml2.sorted_ind, :, :]\n",
    "img_selected = img_sorted[ml2.wav :, :, :]\n",
    "print(img_selected)"
   ],
   "outputs": [],
   "metadata": {}
  },
  {
   "cell_type": "code",
   "execution_count": null,
   "source": [
    "nitrogen_map = hyper_plsr.xr_predict(img_selected, ml2.model, \"band\")"
   ],
   "outputs": [],
   "metadata": {}
  },
  {
   "cell_type": "code",
   "execution_count": null,
   "source": [
    "plt.close()\n",
    "fig, ax = plt.subplots(figsize=(10, 8), facecolor='w', edgecolor='k')\n",
    "nitrogen_map.plot()\n",
    "ax.set_title(\"Nitrogen map of shrublands of western US\")\n",
    "ax.set_xlabel(\"Longitude\")\n",
    "ax.set_ylabel(\"Latitude\")\n",
    "plt.savefig(\"../reports/figures/nitrogen_map.png\")"
   ],
   "outputs": [],
   "metadata": {}
  }
 ],
 "metadata": {
  "orig_nbformat": 4,
  "language_info": {
   "name": "python",
   "version": "3.8.12",
   "mimetype": "text/x-python",
   "codemirror_mode": {
    "name": "ipython",
    "version": 3
   },
   "pygments_lexer": "ipython3",
   "nbconvert_exporter": "python",
   "file_extension": ".py"
  },
  "kernelspec": {
   "name": "python3",
   "display_name": "Python 3.8.12 64-bit ('earthlab': conda)"
  },
  "interpreter": {
   "hash": "a5b38de50964258a6812b52d782605bc383a41294f26704c6f6c15edb4ad77fd"
  }
 },
 "nbformat": 4,
 "nbformat_minor": 2
}